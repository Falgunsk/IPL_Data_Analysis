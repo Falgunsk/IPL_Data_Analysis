{
 "cells": [
  {
   "cell_type": "markdown",
   "metadata": {},
   "source": [
    "**The Dataset used below Contains Players Bowling and Batting Stats from IPL 2016-2022.**\n",
    "\n",
    "\n",
    "\n",
    "**SOURCE** -- https://www.kaggle.com/datasets/anandkumarsahu09/ipl-player-stats-20162022\n",
    "\n",
    "\n",
    "\n",
    "**Batting Stats**\n",
    "\n",
    "\n",
    "\n",
    "POS -- Player's rank based on most runs.\n",
    "\n",
    "Player -- Player's name\n",
    "\n",
    "Mat -- Matches played\n",
    "\n",
    "Inns -- Innings Played\n",
    "\n",
    "NO -- Number of Not Out in innings\n",
    "\n",
    "Runs -- Total Runs scored by a player\n",
    "\n",
    "HS -- Highest Score in innings [* -- Not Out in that Innings]\n",
    "\n",
    "Avg -- Average\n",
    "\n",
    "BF -- Bowls faced\n",
    "\n",
    "SR -- Strike Rate\n",
    "\n",
    "100 -- No of times 100 scored\n",
    "\n",
    "50 -- No of the times 50 scored\n",
    "\n",
    "4s -- Total Fours Scored\n",
    "\n",
    "6s -- Total Sixes Scored\n",
    "\n",
    "\n",
    "\n",
    "**Bowling Stats**\n",
    "\n",
    "\n",
    "\n",
    "POS -- Player's rank based on most wickets.\n",
    "\n",
    "Player -- Player's name\n",
    "\n",
    "Mat -- Matches playedn\n",
    "\n",
    "Inns -- Innings Played\n",
    "\n",
    "Ov -- Overs\n",
    "\n",
    "Runs -- Total runs given by bowler\n",
    "\n",
    "Wkts -- Total Wickets taken\n",
    "\n",
    "BBI -- Best Bowling in Innings\n",
    "\n",
    "Avg -- Bowling Average\n",
    "\n",
    "Econ -- Economy rate\n",
    "\n",
    "SR -- Strike Rate\n",
    "\n",
    "4w -- 4 wickets haul\n",
    "\n",
    "5w -- 5 wickets haul\n"
   ]
  },
  {
   "cell_type": "code",
   "execution_count": null,
   "metadata": {},
   "outputs": [],
   "source": [
    "# Importing necessary libraries\n",
    "import os\n",
    "import csv\n",
    "import matplotlib.pyplot as plt\n",
    "import numpy as np\n",
    "from collections import Counter"
   ]
  },
  {
   "cell_type": "code",
   "execution_count": null,
   "metadata": {},
   "outputs": [],
   "source": [
    "# Function to convert a CSV file data to a list of dictionaries\n",
    "def csv_to_list_of_dicts(file_path, year):\n",
    "    data_list = []\n",
    "    with open(file_path, newline='') as csvfile:\n",
    "        reader = csv.DictReader(csvfile)\n",
    "        for row in reader:\n",
    "            row['Year'] = year\n",
    "            data_list.append(row)\n",
    "    return data_list\n"
   ]
  },
  {
   "cell_type": "code",
   "execution_count": null,
   "metadata": {},
   "outputs": [],
   "source": [
    "# Function to get a list of CSV files in a folder\n",
    "def get_csv_files_in_folder(folder_path):\n",
    "    csv_files = []\n",
    "    for file in os.listdir(folder_path):\n",
    "        if file.endswith('.csv'):\n",
    "            csv_files.append(os.path.join(folder_path, file))\n",
    "    return csv_files\n"
   ]
  },
  {
   "cell_type": "code",
   "execution_count": null,
   "metadata": {},
   "outputs": [],
   "source": [
    "# Folder paths for batting and bowling data\n",
    "folder_path_batting = f\"E:\\\\Movies\\\\Summer Training Project 2023\\\\kaggle data set\\\\IPL Player Stats\\\\Batting Stats\"\n",
    "folder_path_bowling = f\"E:\\\\Movies\\\\Summer Training Project 2023\\\\kaggle data set\\\\IPL Player Stats\\\\Bowling Stats\"\n",
    "\n",
    "# Get all CSV files in the batting and bowling folders to csv_batting_files and csv_bowling_files rspectively\n",
    "csv_batting_files = get_csv_files_in_folder(folder_path_batting)\n",
    "csv_bowling_files = get_csv_files_in_folder(folder_path_bowling)\n",
    "\n",
    "# Initialize empty lists to store all batting and bowling data\n",
    "all_bowling_data = []\n",
    "all_batting_data = []\n",
    "\n",
    "# Iterate through each batting CSV file, extract data, and append to all_batting_data\n",
    "for file_path in csv_batting_files:\n",
    "    year = int(file_path.split('\\\\')[-1][:-4].split('_')[-1])\n",
    "    data = csv_to_list_of_dicts(file_path, year)\n",
    "    all_batting_data.extend(data)\n",
    "\n",
    "# Iterate through each batting CSV file, extract data, and append to all_bowling_data\n",
    "for file_path in csv_bowling_files:\n",
    "    year = int(file_path.split('\\\\')[-1][:-4].split(\"_\")[1])\n",
    "    data = csv_to_list_of_dicts(file_path, year)\n",
    "    all_bowling_data.extend(data)\n"
   ]
  },
  {
   "cell_type": "code",
   "execution_count": null,
   "metadata": {},
   "outputs": [],
   "source": [
    "# Display the data in all_batting data\n",
    "all_batting_data[:]"
   ]
  },
  {
   "cell_type": "code",
   "execution_count": null,
   "metadata": {},
   "outputs": [],
   "source": [
    "# Function to display information about the dataset\n",
    "def info(df):\n",
    "    # Assuming the keys of the first dictionary represent column names\n",
    "    col_names = list(df[0].keys())\n",
    "    data_types = {col: type(df[0][col]).__name__ for col in col_names}\n",
    "    non_null_counts = {\n",
    "        col: sum(1 for row in df if row[col] is not None) for col in col_names}\n",
    "\n",
    "    print(f\"Data Frame Info:\")\n",
    "    print(\"Number of Rows:\", len(df))\n",
    "    print(\"Number of Columns:\", len(col_names))\n",
    "    print()\n",
    "\n",
    "    print(\"{: <20} {: <20} {: <20}\".format(\n",
    "        \"Column Name\", \"Data Type\", \"Non-Null Count\"))\n",
    "    print(\"-\" * 60)\n",
    "    for col in col_names:\n",
    "        print(\"{: <20} {: <20} {: <20}\".format(\n",
    "            col, data_types[col], non_null_counts[col]))\n"
   ]
  },
  {
   "cell_type": "code",
   "execution_count": null,
   "metadata": {},
   "outputs": [],
   "source": [
    "# Display information about all_batting_data\n",
    "batting_info = info(all_batting_data)"
   ]
  },
  {
   "cell_type": "code",
   "execution_count": null,
   "metadata": {},
   "outputs": [],
   "source": [
    "info(all_bowling_data)"
   ]
  },
  {
   "cell_type": "code",
   "execution_count": null,
   "metadata": {},
   "outputs": [],
   "source": [
    "# Count the occurrences of each player's name\n",
    "player_bat_name_counts = Counter(entry['Player'] for entry in all_batting_data)\n",
    "player_bowl_name_counts = Counter(entry['Player'] for entry in all_bowling_data)\n",
    "\n",
    "# Filter out players with less than 6 occurrences in batting data and bowling data\n",
    "all_batting_data = [entry for entry in all_batting_data if player_bat_name_counts[entry['Player']] >= 6]\n",
    "all_bowling_data = [entry for entry in all_bowling_data if player_bowl_name_counts[entry['Player']] >= 6]\n"
   ]
  },
  {
   "cell_type": "code",
   "execution_count": null,
   "metadata": {},
   "outputs": [],
   "source": [
    "#Displaying the players' name that are filtered out\n",
    "for row in all_batting_data:\n",
    "    print(row['Player'])"
   ]
  },
  {
   "cell_type": "code",
   "execution_count": null,
   "metadata": {},
   "outputs": [],
   "source": [
    "#Displaying the players' name that are filtered out\n",
    "for row in all_bowling_data:\n",
    "    print(row['Player'])"
   ]
  },
  {
   "cell_type": "code",
   "execution_count": null,
   "metadata": {},
   "outputs": [],
   "source": [
    "# Display the data in all_bowling data\n",
    "all_bowling_data[:]"
   ]
  },
  {
   "cell_type": "code",
   "execution_count": null,
   "metadata": {},
   "outputs": [],
   "source": [
    "# Display information about all_bowling_data\n",
    "bowling_info = info(all_bowling_data)"
   ]
  },
  {
   "cell_type": "code",
   "execution_count": null,
   "metadata": {},
   "outputs": [],
   "source": [
    "# Data Cleaning and Transformation\n",
    "\n",
    "# Convert 'Avg' values to string, replace '-' with '0', strip whitespace, and convert to float\n",
    "for row in all_batting_data:\n",
    "    row['Avg'] = str(row['Avg']).replace(\"-\", \"0\").strip()\n",
    "    row['Avg'] = float(row['Avg'])\n",
    "\n",
    "# Removing * from 'HS' (High Score) values\n",
    "for row in all_batting_data:\n",
    "    row['HS'] = str(row['HS']).replace(\"*\", \"\")\n",
    "    row['HS'] = float(row['HS'])\n",
    "\n",
    "# Dropping the 'POS' key from each dataset and 'BBI' from all_bowling_data\n",
    "for row in all_bowling_data:\n",
    "    del row['POS']\n",
    "    del row['BBI']\n",
    "    \n",
    "for row in all_batting_data:\n",
    "    del row['POS']"
   ]
  },
  {
   "cell_type": "code",
   "execution_count": null,
   "metadata": {},
   "outputs": [],
   "source": [
    "info(all_batting_data)"
   ]
  },
  {
   "cell_type": "code",
   "execution_count": null,
   "metadata": {},
   "outputs": [],
   "source": [
    "# Function to convert data types to int or float as needed\n",
    "\n",
    "def convert_data_types(data):\n",
    "    for i in range(len(data)):\n",
    "        for key, value in data[i].items():\n",
    "            if isinstance(value , (int , float)):\n",
    "               continue \n",
    "            elif '.' in value:\n",
    "                # Check if value contains '.' in it, then convert to float\n",
    "                try:\n",
    "                    data[i][key] = float(value)  # Convert to float\n",
    "                except ValueError:\n",
    "                    pass\n",
    "            else:\n",
    "                try:\n",
    "                    data[i][key] = int(value)  # Convert to int\n",
    "                except ValueError:\n",
    "                    pass  # Value remains as string if not numeric\n"
   ]
  },
  {
   "cell_type": "code",
   "execution_count": null,
   "metadata": {},
   "outputs": [],
   "source": [
    "# Convert data types in batting and bowling data\n",
    "convert_data_types(all_batting_data)\n",
    "convert_data_types(all_bowling_data)"
   ]
  },
  {
   "cell_type": "code",
   "execution_count": null,
   "metadata": {},
   "outputs": [],
   "source": [
    "info(all_batting_data)"
   ]
  },
  {
   "cell_type": "code",
   "execution_count": null,
   "metadata": {},
   "outputs": [],
   "source": [
    "info(all_bowling_data)"
   ]
  },
  {
   "cell_type": "code",
   "execution_count": null,
   "metadata": {},
   "outputs": [],
   "source": []
  },
  {
   "cell_type": "code",
   "execution_count": null,
   "metadata": {},
   "outputs": [],
   "source": [
    "# Function to calculate mean, median, min, max, and count for a given column\n",
    "\n",
    "def calculate_mean(column):\n",
    "    return sum(column) / len(column)\n",
    "\n",
    "def calculate_median(column):\n",
    "    sorted_column = sorted(column)\n",
    "    n = len(sorted_column)\n",
    "    if n % 2 == 1:\n",
    "        return sorted_column[n // 2]\n",
    "    else:\n",
    "        return (sorted_column[n // 2 - 1] + sorted_column[n // 2]) / 2\n",
    "\n",
    "def calculate_min(column):\n",
    "    return min(column)\n",
    "\n",
    "def calculate_max(column):\n",
    "    return max(column)\n",
    "\n",
    "def calculate_count(column):\n",
    "    return len(column)"
   ]
  },
  {
   "cell_type": "code",
   "execution_count": null,
   "metadata": {},
   "outputs": [],
   "source": [
    "# Fuction to describe the data\n",
    "def describe(data):\n",
    "    statistics = {}\n",
    "    for column in data[0].keys():  # As all dictionaries have the same keys\n",
    "        try:\n",
    "            values = [item[column] for item in data]\n",
    "            statistics[column] = {\n",
    "                'mean': calculate_mean(values),\n",
    "                'median': calculate_median(values),\n",
    "                'min': calculate_min(values),\n",
    "                'max': calculate_max(values),\n",
    "                'count': calculate_count(values)\n",
    "            }\n",
    "        except:\n",
    "            TypeError\n",
    "    return statistics\n"
   ]
  },
  {
   "cell_type": "code",
   "execution_count": null,
   "metadata": {},
   "outputs": [],
   "source": [
    "# Displaying the stats\n",
    "statistics_batting = describe(all_batting_data)\n",
    "print(f\"statistics of batting \\n{statistics_batting}\")"
   ]
  },
  {
   "cell_type": "code",
   "execution_count": null,
   "metadata": {},
   "outputs": [],
   "source": [
    "statistics_bowling = describe(all_bowling_data)\n",
    "print(f\"statistics of bowling \\n{statistics_bowling}\")\n"
   ]
  },
  {
   "cell_type": "markdown",
   "metadata": {},
   "source": [
    "'Avg' column in both batting dataset and bowling dataset represents the batting average and bowling average i.e. is :\n",
    "\n",
    "Batting Average = Runs Scored ÷ Times Out                                   \n",
    "\n",
    "“Runs Scored” – The number of runs scored by the batter.    \n",
    "\n",
    "“Times Out” – The number of times the batter has been caught out.  \n",
    "   \n",
    "---------------------------------------------------\n",
    "Bowling Average = Runs Conceded ÷ Wickets Taken\n",
    "\n",
    "“Runs Conceded” is the number of runs conceded by the bowler.\n",
    "\n",
    "“Wickets Taken” is the number of wickets taken by the bowler."
   ]
  },
  {
   "cell_type": "code",
   "execution_count": null,
   "metadata": {},
   "outputs": [],
   "source": [
    "# Now calculating Avg_score i.e. Average Score of the batsman , total runs divided by innings , i.e. average runs scored by a batsman per innings\n",
    "# And adding a new column in batting data nameky Avg_score\n",
    "def cal_batting_avg_score(player_data):\n",
    "    for row in player_data:\n",
    "        runs = row['Runs']\n",
    "        innings = row['Inns']\n",
    "        if innings == 0:\n",
    "           row['Avg_score'] = 0 \n",
    "        else:\n",
    "            row['Avg_score'] = runs / innings"
   ]
  },
  {
   "cell_type": "code",
   "execution_count": null,
   "metadata": {},
   "outputs": [],
   "source": [
    "cal_batting_avg_score(all_batting_data)"
   ]
  },
  {
   "cell_type": "code",
   "execution_count": null,
   "metadata": {},
   "outputs": [],
   "source": [
    "info(all_batting_data)"
   ]
  },
  {
   "cell_type": "code",
   "execution_count": null,
   "metadata": {},
   "outputs": [],
   "source": [
    "info(all_bowling_data)"
   ]
  },
  {
   "cell_type": "code",
   "execution_count": null,
   "metadata": {},
   "outputs": [],
   "source": [
    "# Function to find all rounders and aggregate them.\n",
    "def aggregate_allrounder_statistics(batdata , bowldata):\n",
    "    player_stats = []\n",
    "    for row in batdata:\n",
    "        bat_name = row['Player']\n",
    "        for x in bowldata:\n",
    "            bowl_name = x[\"Player\"]\n",
    "            if bat_name == bowl_name:\n",
    "                if row[\"Year\"] == x[\"Year\"]:\n",
    "                    new_dict = {\n",
    "                        \"Year\" : row[\"Year\"],\n",
    "                        \"Player\" : bat_name,\n",
    "                        \"Batting_avg\" : row['Avg'],\n",
    "                        \"Strike_rate\" : row[\"SR\"],\n",
    "                        \"Batting_avg_score\" : row[\"Avg_score\"],\n",
    "                        \"Bowling_avg\" : x[\"Avg\"],\n",
    "                        \"Economy_rate\" : x[\"Econ\"],\n",
    "                        \"Bat_score\" : (row[\"Avg\"] + row[\"SR\"] + row[\"Avg_score\"]) / 3 ,    \n",
    "                        \"Bowl_score\" : (x[\"Avg\"] + x[\"Econ\"]) / 2      \n",
    "                    }\n",
    "                    player_stats.append(new_dict)\n",
    "        \n",
    "    return player_stats\n",
    "aggregate_allrounder_statistics(all_batting_data , all_bowling_data)"
   ]
  },
  {
   "cell_type": "code",
   "execution_count": null,
   "metadata": {},
   "outputs": [],
   "source": [
    "all_rounder_data = aggregate_allrounder_statistics(all_batting_data , all_bowling_data)"
   ]
  },
  {
   "cell_type": "code",
   "execution_count": null,
   "metadata": {},
   "outputs": [],
   "source": [
    "print(all_rounder_data)"
   ]
  },
  {
   "cell_type": "markdown",
   "metadata": {},
   "source": [
    "New column is added namely overall_score of player of a year in both data i.e. \n",
    "\n",
    "mean of batting average(Avg) , runs per innings (Avg_score) , Strike rate (SR) ; this in batting data\n",
    "\n",
    "mean of bowling average(Avg) , economy rate (Econ) ; this in bowling data"
   ]
  },
  {
   "cell_type": "code",
   "execution_count": null,
   "metadata": {},
   "outputs": [],
   "source": [
    "# Adding a new column in batting data named as overall_score\n",
    "def cal_overall_bat_score(player_data):\n",
    "    for row in player_data:\n",
    "        avg = row['Avg']\n",
    "        sr = row['SR']\n",
    "        avg_sc = row['Avg_score']\n",
    "        overall_sc = (avg + sr + avg_sc) / 3\n",
    "        \n",
    "        row['Overall_score'] = overall_sc\n",
    "        "
   ]
  },
  {
   "cell_type": "code",
   "execution_count": null,
   "metadata": {},
   "outputs": [],
   "source": [
    "# Adding a new column in bowling data named as overall_score\n",
    "def cal_overall_bowl_score(player_data):\n",
    "    for row in player_data:\n",
    "        avg = row['Avg']\n",
    "        er = row['Econ']\n",
    "        \n",
    "        overall_sc = (avg + er) / 2\n",
    "        \n",
    "        row['Overall_score'] = overall_sc\n",
    "        "
   ]
  },
  {
   "cell_type": "code",
   "execution_count": null,
   "metadata": {},
   "outputs": [],
   "source": [
    "cal_overall_bat_score(all_batting_data)\n",
    "info(all_batting_data)\n",
    "print(\"\\n\")\n",
    "cal_overall_bowl_score(all_bowling_data)\n",
    "info(all_bowling_data)"
   ]
  },
  {
   "cell_type": "code",
   "execution_count": null,
   "metadata": {},
   "outputs": [],
   "source": [
    "info(all_rounder_data)"
   ]
  },
  {
   "cell_type": "code",
   "execution_count": null,
   "metadata": {},
   "outputs": [],
   "source": [
    "for row in all_batting_data:\n",
    "    print(row['Overall_score'])"
   ]
  },
  {
   "cell_type": "code",
   "execution_count": null,
   "metadata": {},
   "outputs": [],
   "source": [
    "# Function to aggregate player statistics over the years, group by players\n",
    "def aggregate_player_batting_statistics(data):\n",
    "    player_stats = {}\n",
    "    for player in data:\n",
    "        player_name = player['Player']\n",
    "        if player_name not in player_stats:\n",
    "            player_stats[player_name] = {\n",
    "                'Batting Avg': [],\n",
    "                'Batting Avg Score': [],\n",
    "                'Batting Strike Rate': [],\n",
    "                'Overall Score' : []\n",
    "            }\n",
    "        try:   \n",
    "            player_stats[player_name]['Batting Avg'].append(player['Avg'])\n",
    "            player_stats[player_name]['Batting Avg Score'].append(player['Avg_score'])\n",
    "            player_stats[player_name]['Batting Strike Rate'].append(player['SR'])\n",
    "            player_stats[player_name]['Overall Score'].append(player['Overall_score'])\n",
    "        except:\n",
    "            KeyError\n",
    "    return player_stats\n",
    "\n",
    "def aggregate_player_bowling_statistics(data):\n",
    "    player_stats = {}\n",
    "    for player in data:\n",
    "        player_name = player['Player']\n",
    "        if player_name not in player_stats:\n",
    "            player_stats[player_name] = {\n",
    "                'Bowling Econ Rate': [],\n",
    "                'Bowling Avg': [],\n",
    "                'Overall Score' : []\n",
    "            }\n",
    "        try:\n",
    "            player_stats[player_name]['Bowling Econ Rate'].append(player['Econ'])\n",
    "            player_stats[player_name]['Bowling Avg'].append(player['Avg'])\n",
    "            player_stats[player_name]['Overall Score'].append(player['Overall_score'])\n",
    "        except:\n",
    "            KeyError\n",
    "    return player_stats\n",
    "\n",
    "\n",
    "def aggregate_player_allrounder_statistics(data):\n",
    "    player_stats = {}\n",
    "    for player in data:\n",
    "        player_name = player['Player']\n",
    "        if player_name not in player_stats:\n",
    "            player_stats[player_name] = {\n",
    "                'Batting Avg': [],\n",
    "                'Batting Avg Score': [],\n",
    "                'Batting Strike Rate': [],\n",
    "                'Bowling Econ Rate': [],\n",
    "                'Bowling Avg': [],\n",
    "                \"Bat Score\" : [],\n",
    "                \"Bowl Score\" : [],\n",
    "            }\n",
    "        try:   \n",
    "            player_stats[player_name]['Batting Avg'].append(player['Batting_avg'])\n",
    "            player_stats[player_name]['Batting Avg Score'].append(player['Batting_avg_score'])\n",
    "            player_stats[player_name]['Batting Strike Rate'].append(player['Strike_rate'])\n",
    "            player_stats[player_name]['Bowling Econ Rate'].append(player['Economy_rate'])\n",
    "            player_stats[player_name]['Bowling Avg'].append(player['Bowling_avg'])\n",
    "            player_stats[player_name][\"Bat Score\"].append(player['Bat_score'])\n",
    "            player_stats[player_name][\"Bowl Score\"].append(player['Bowl_score'])\n",
    "        except:\n",
    "            KeyError\n",
    "    return player_stats"
   ]
  },
  {
   "cell_type": "code",
   "execution_count": null,
   "metadata": {},
   "outputs": [],
   "source": [
    "# Aggregate player statistics for batting and bowling\n",
    "aggregated_batting_player_stats = aggregate_player_batting_statistics(all_batting_data)\n",
    "aggregated_bowling_player_stats = aggregate_player_bowling_statistics(all_bowling_data)\n",
    "aggregated_allrounder_player_stats = aggregate_player_allrounder_statistics(all_rounder_data)"
   ]
  },
  {
   "cell_type": "code",
   "execution_count": null,
   "metadata": {},
   "outputs": [],
   "source": [
    "print(aggregated_bowling_player_stats)"
   ]
  },
  {
   "cell_type": "code",
   "execution_count": null,
   "metadata": {},
   "outputs": [],
   "source": [
    "print(aggregated_batting_player_stats)"
   ]
  },
  {
   "cell_type": "code",
   "execution_count": null,
   "metadata": {},
   "outputs": [],
   "source": [
    "print(aggregated_allrounder_player_stats)"
   ]
  },
  {
   "cell_type": "code",
   "execution_count": null,
   "metadata": {},
   "outputs": [],
   "source": [
    "# Function to calculate player rankings based on a given performance metric\n",
    "def calculate_player_rankings(player_stats, metric):\n",
    "    rankings = {}\n",
    "    for player, values in player_stats.items():\n",
    "        metric_values = values[metric]\n",
    "        if len(metric_values) > 0:\n",
    "            avg_metric = sum(metric_values) / len(metric_values)\n",
    "            rankings[player] = avg_metric\n",
    "\n",
    "    sorted_rankings = sorted(rankings.items(), key=lambda x: x[1], reverse=True)\n",
    "    return sorted_rankings"
   ]
  },
  {
   "cell_type": "code",
   "execution_count": null,
   "metadata": {},
   "outputs": [],
   "source": [
    "# Calculate rankings for batting and bowling metrics\n",
    "batting_avg_rankings = calculate_player_rankings(aggregated_batting_player_stats, 'Batting Avg')\n",
    "batting_avg_score_rankings = calculate_player_rankings(aggregated_batting_player_stats, 'Batting Avg Score')\n",
    "batting_sr_rankings = calculate_player_rankings(aggregated_batting_player_stats, 'Batting Strike Rate')\n",
    "\n",
    "bowling_econ_rankings = calculate_player_rankings(aggregated_bowling_player_stats, 'Bowling Econ Rate')\n",
    "bowling_avg_rankings = calculate_player_rankings(aggregated_bowling_player_stats, 'Bowling Avg')\n",
    "\n",
    "allrounder_bat_rankings = calculate_player_rankings(aggregated_allrounder_player_stats , 'Bat Score')\n",
    "allrounder_bowl_rankings = calculate_player_rankings(aggregated_allrounder_player_stats , 'Bowl Score')\n"
   ]
  },
  {
   "cell_type": "code",
   "execution_count": null,
   "metadata": {},
   "outputs": [],
   "source": [
    "print(bowling_econ_rankings)"
   ]
  },
  {
   "cell_type": "code",
   "execution_count": null,
   "metadata": {},
   "outputs": [],
   "source": [
    "# Function to get top N players from the rankings\n",
    "def get_top_players(rankings, N = 40):\n",
    "    return rankings[:N]\n",
    "def get_bottom_players(rankings, N = 20):\n",
    "    return rankings[-N:]"
   ]
  },
  {
   "cell_type": "code",
   "execution_count": null,
   "metadata": {},
   "outputs": [],
   "source": [
    "# Get top 40 players for each metric\n",
    "top_batting_avg = sorted(set(get_top_players(batting_avg_rankings)), key=lambda x: x[1], reverse=True)\n",
    "top_batting_avg_score = sorted(set(get_top_players(batting_avg_score_rankings)), key=lambda x: x[1], reverse=True)\n",
    "top_batting_sr = sorted(set(get_top_players(batting_sr_rankings)), key=lambda x: x[1], reverse=True)\n",
    "top_bowling_econ = sorted(set(get_bottom_players(bowling_econ_rankings)), key=lambda x: x[1], reverse=False)\n",
    "top_bowling_avg = sorted(set(get_bottom_players(bowling_avg_rankings)), key=lambda x: x[1], reverse=False)"
   ]
  },
  {
   "cell_type": "code",
   "execution_count": null,
   "metadata": {},
   "outputs": [],
   "source": [
    "top_allrounder_batting = sorted(set(get_top_players(allrounder_bat_rankings)), key=lambda x: x[1], reverse=True)\n",
    "top_allrounder_bowling = sorted(set(get_top_players(allrounder_bowl_rankings)), key=lambda x: x[1], reverse=False)"
   ]
  },
  {
   "cell_type": "code",
   "execution_count": null,
   "metadata": {},
   "outputs": [],
   "source": [
    "print(top_batting_avg)"
   ]
  },
  {
   "cell_type": "code",
   "execution_count": null,
   "metadata": {},
   "outputs": [],
   "source": [
    "print(top_batting_avg_score)"
   ]
  },
  {
   "cell_type": "code",
   "execution_count": null,
   "metadata": {},
   "outputs": [],
   "source": [
    "print(top_bowling_econ)"
   ]
  },
  {
   "cell_type": "code",
   "execution_count": null,
   "metadata": {},
   "outputs": [],
   "source": [
    "# Display top 40 players for each metric in batting and 20 player in bowling\n",
    "\n",
    "print(f\"\\n----- Top {len(top_batting_avg)} Batting Averages -----\\n\")\n",
    "for player, avg in top_batting_avg:\n",
    "    print(f\"Player: {player}, Batting Avg: {avg:.2f}\")\n",
    "\n",
    "print(f\"\\n----- Top {len(top_batting_avg_score)} Batting Average Scores -----\\n\")\n",
    "for player, avg_score in top_batting_avg_score:\n",
    "    print(f\"Player: {player}, Batting Avg Score: {avg_score:.2f}\")\n",
    "\n",
    "print(f\"\\n----- Top {len(top_batting_sr)} Batting Strike Rates -----\\n\")\n",
    "for player, sr in top_batting_sr:\n",
    "    print(f\"Player: {player}, Batting Strike Rate: {sr:.2f}\")\n",
    "\n",
    "print(f\"\\n----- Top {len(top_bowling_econ)} Bowling Economy Rates -----\\n\")\n",
    "for player, econ in top_bowling_econ:\n",
    "    print(f\"Player: {player}, Bowling Econ Rate: {econ:.2f}\")\n",
    "\n",
    "print(f\"\\n----- Top {len(top_bowling_avg)} Bowling Averages -----\\n\")\n",
    "for player, avg in top_bowling_avg:\n",
    "    print(f\"Player: {player}, Bowling Avg: {avg:.2f}\")\n",
    "    \n",
    "print(f\"\\n----- Top {len(top_allrounder_batting)} All Rounder Batting Score Averages -----\\n\")\n",
    "for player, avg in top_allrounder_batting:\n",
    "    print(f\"Player: {player}, Batting Score Avg: {avg:.2f}\")\n",
    "    \n",
    "print(f\"\\n----- Top {len(top_allrounder_bowling)} All Rounder Bowling Score Averages -----\\n\")\n",
    "for player, avg in top_allrounder_bowling:\n",
    "    print(f\"Player: {player}, Bowling Score Avg: {avg:.2f}\")\n",
    "\n"
   ]
  },
  {
   "cell_type": "code",
   "execution_count": null,
   "metadata": {},
   "outputs": [],
   "source": [
    "# sum1 = 0\n",
    "# allrounder_count_bat = 0\n",
    "# allrounder_count_bowl = 0\n",
    "# for name , value in top_allrounder_batting :\n",
    "#     allrounder_count_bat += 1\n",
    "#     sum1 += value\n",
    "# mean_allrounder_bat = sum1/ allrounder_count_bat\n",
    "# sum1 = 0\n",
    "# for name , value in top_allrounder_bowling :\n",
    "#     allrounder_count_bowl += 1\n",
    "#     sum1 += value\n",
    "# mean_allrounder_bowl = sum1 / allrounder_count_bowl\n",
    "\n",
    "# print(mean_allrounder_bat)\n",
    "# print(allrounder_count_bat)\n",
    "# print(allrounder_count_bowl)\n",
    "# print(mean_allrounder_bowl)"
   ]
  },
  {
   "cell_type": "code",
   "execution_count": null,
   "metadata": {},
   "outputs": [],
   "source": [
    "# Extract only the player names from the sets\n",
    "players_set1 = {name for name, _ in top_batting_avg}\n",
    "players_set2 = {name for name, _ in top_batting_avg_score}\n",
    "players_set3 = {name for name, _ in top_batting_sr}\n",
    "players_set4 = {name for name, _ in top_bowling_econ}\n",
    "players_set5 = {name for name, _ in top_bowling_avg}\n",
    "players_set6 = {name for name, _ in top_allrounder_batting[:12]}\n",
    "players_set7 = {name for name, _ in top_allrounder_bowling[:12]}\n",
    "\n",
    "# Find the common names in all five sets\n",
    "overall_top_batsman = players_set1.intersection(players_set2, players_set3)\n",
    "overall_top_bowler = players_set4.intersection(players_set5)\n",
    "overall_top_allrounder = players_set6.intersection(players_set7)\n",
    "\n",
    "print(overall_top_batsman)\n",
    "print(len(overall_top_batsman))"
   ]
  },
  {
   "cell_type": "code",
   "execution_count": null,
   "metadata": {},
   "outputs": [],
   "source": [
    "print(overall_top_allrounder)\n",
    "print(len(overall_top_allrounder))"
   ]
  },
  {
   "cell_type": "code",
   "execution_count": null,
   "metadata": {},
   "outputs": [],
   "source": [
    "print(overall_top_bowler)\n",
    "print(len(overall_top_bowler))"
   ]
  },
  {
   "cell_type": "code",
   "execution_count": null,
   "metadata": {},
   "outputs": [],
   "source": [
    "# Function to plot graph of each metric (taking average of 7 years of each player) vs palyers\n",
    "def plot_performance_allplayers(player_names, performance_metric, data, ylabel):\n",
    "    plt.figure(figsize=(12, 8))  # Increase the figure size for better visibility\n",
    "    \n",
    "    # Compute average value for the given metric for each player\n",
    "    average_values = [sum(data[player][performance_metric]) / len(data[player][performance_metric]) for player in player_names]\n",
    "    \n",
    "    # Plotting histogram\n",
    "    bars = plt.bar(player_names, average_values, alpha=0.7 , width=0.8)\n",
    "    plt.xlabel('Player Names')\n",
    "    plt.ylabel(ylabel)\n",
    "    plt.title(f'Average of 7 Years of {performance_metric} for Players')\n",
    "    plt.xticks(rotation=45, ha='right')  # Tilt x-axis labels\n",
    "    for bar, value in zip(bars, average_values):\n",
    "        plt.text(bar.get_x() + bar.get_width() / 2, bar.get_height(), f'{value:.2f}', ha='center', va='bottom', fontsize = 6)\n",
    "\n",
    "    plt.show()\n",
    "\n",
    "batsman_names_list = list(overall_top_batsman)\n",
    "bowler_names_list = list(overall_top_bowler)\n",
    "allrounder_names_list = list(overall_top_allrounder)"
   ]
  },
  {
   "cell_type": "code",
   "execution_count": null,
   "metadata": {},
   "outputs": [],
   "source": [
    "# No. of Top common Batsman in all metric\n",
    "len(batsman_names_list)"
   ]
  },
  {
   "cell_type": "code",
   "execution_count": null,
   "metadata": {},
   "outputs": [],
   "source": [
    "# Graph in Batting Average vs Players\n",
    "plot_performance_allplayers(batsman_names_list, \"Batting Avg\", aggregated_batting_player_stats, 'Average Batting Average')"
   ]
  },
  {
   "cell_type": "code",
   "execution_count": null,
   "metadata": {},
   "outputs": [],
   "source": [
    "plot_performance_allplayers(batsman_names_list, \"Overall Score\", aggregated_batting_player_stats, 'Overall Batting Score')"
   ]
  },
  {
   "cell_type": "code",
   "execution_count": null,
   "metadata": {},
   "outputs": [],
   "source": [
    "# Graph in Battin Average Score vs Players\n",
    "plot_performance_allplayers(batsman_names_list, \"Batting Avg Score\", aggregated_batting_player_stats, 'Average Batting Average Score')"
   ]
  },
  {
   "cell_type": "code",
   "execution_count": null,
   "metadata": {},
   "outputs": [],
   "source": [
    "# Graph in Strike Rate vs Players\n",
    "plot_performance_allplayers(batsman_names_list, \"Batting Strike Rate\", aggregated_batting_player_stats, 'Average Batting Strike Rate')"
   ]
  },
  {
   "cell_type": "code",
   "execution_count": null,
   "metadata": {},
   "outputs": [],
   "source": [
    "plot_performance_allplayers(bowler_names_list, \"Overall Score\", aggregated_bowling_player_stats, 'Overall Bowling Score')"
   ]
  },
  {
   "cell_type": "code",
   "execution_count": null,
   "metadata": {},
   "outputs": [],
   "source": [
    "# Graph in Bowling Avgerage vs Players\n",
    "plot_performance_allplayers(bowler_names_list, \"Bowling Avg\", aggregated_bowling_player_stats, 'Average Bowling Average')"
   ]
  },
  {
   "cell_type": "code",
   "execution_count": null,
   "metadata": {},
   "outputs": [],
   "source": [
    "# Graph in Economy Rate vs Players\n",
    "plot_performance_allplayers(bowler_names_list, \"Bowling Econ Rate\", aggregated_bowling_player_stats, 'Average Bowling Economy Rate')"
   ]
  },
  {
   "cell_type": "code",
   "execution_count": null,
   "metadata": {},
   "outputs": [],
   "source": [
    "plot_performance_allplayers(allrounder_names_list, \"Bat Score\", aggregated_allrounder_player_stats, 'Average Batting Average - All Rounders')"
   ]
  },
  {
   "cell_type": "code",
   "execution_count": null,
   "metadata": {},
   "outputs": [],
   "source": [
    "plot_performance_allplayers(allrounder_names_list, \"Bowl Score\", aggregated_allrounder_player_stats, 'Average Bowling Average - All Rounders')"
   ]
  },
  {
   "cell_type": "code",
   "execution_count": null,
   "metadata": {},
   "outputs": [],
   "source": [
    "# Function to plot player's performance over the years for multiple metrics\n",
    "# or Historical Performance\n",
    "def plot_player_performance(player_name, performance_metrics, data, ylabel):\n",
    "    years = [entry['Year'] for entry in data if entry['Player'] == player_name]\n",
    "    metric_values = {metric: [entry[metric] for entry in data if entry['Player'] == player_name] for metric in performance_metrics}\n",
    "\n",
    "    plt.figure(figsize=(12, 8))  # Increase the figure size for better visibility\n",
    "    \n",
    "    for metric, values in metric_values.items():\n",
    "        plt.plot(years, values, marker='o', label=metric)\n",
    "        for i, value in enumerate(values):\n",
    "            plt.text(years[i], value, f'{value:.2f}', ha='center', va='bottom', fontsize=10, color='black')\n",
    "            \n",
    "            \n",
    "    plt.xticks(rotation=45, ha='right')  # Rotate x-axis labels for readability\n",
    "    plt.xlabel('Year')\n",
    "    plt.ylabel(ylabel)\n",
    "    plt.title(f'{player_name} Performance over the Years')\n",
    "    plt.legend()  # Display legend for different metrics\n",
    "    plt.grid(True)  # Display grid lines\n",
    "    plt.show()\n",
    "\n",
    "\n",
    "performance_batting_metrics = [\"Avg\", \"SR\", \"Avg_score\" ]\n",
    "performance_bowling_metrics = [\"Econ\", \"Avg\"]\n",
    "performance_allrounder_metrics = [\"Bat_score\" , \"Bowl_score\"]"
   ]
  },
  {
   "cell_type": "code",
   "execution_count": null,
   "metadata": {},
   "outputs": [],
   "source": [
    "# Plot the graphs for batsman using the actual data directly\n",
    "for player_name in overall_top_batsman:\n",
    "    plot_player_performance(player_name, performance_batting_metrics, all_batting_data, 'Performance')"
   ]
  },
  {
   "cell_type": "code",
   "execution_count": null,
   "metadata": {},
   "outputs": [],
   "source": [
    "# Plot the graphs in bowlers using the actual data directly\n",
    "for player_name in overall_top_bowler:\n",
    "    plot_player_performance(player_name, performance_bowling_metrics, all_bowling_data, 'Performance')"
   ]
  },
  {
   "cell_type": "code",
   "execution_count": null,
   "metadata": {},
   "outputs": [],
   "source": [
    "for player_name in overall_top_allrounder:\n",
    "    plot_player_performance(player_name, performance_allrounder_metrics, all_rounder_data, 'Performance')"
   ]
  },
  {
   "cell_type": "code",
   "execution_count": null,
   "metadata": {},
   "outputs": [],
   "source": [
    "batsman_names_list[:]"
   ]
  },
  {
   "cell_type": "code",
   "execution_count": null,
   "metadata": {},
   "outputs": [],
   "source": [
    "# Function to perform linear regression and plot the trend line\n",
    "# Create a dictionary to store player-wise data\n",
    "batsman_data_dict = {}\n",
    "\n",
    "# Extract the data for the selected metric and year\n",
    "for player_name in batsman_names_list:\n",
    "    years = [entry['Year'] for entry in all_batting_data if entry['Player'] == player_name]\n",
    "    batting_avg_values = [entry['Avg'] for entry in all_batting_data if entry['Player'] == player_name]\n",
    "    sr_values = [entry['SR'] for entry in all_batting_data if entry['Player'] == player_name]\n",
    "    batting_avg_score = [entry['Avg_score'] for entry in all_batting_data if entry['Player'] == player_name]\n",
    "    \n",
    "    batsman_data_dict[player_name] = {'Year': years, 'Batting Avg': batting_avg_values, 'Strike Rate': sr_values, 'Batting Avg Score': batting_avg_score}\n",
    "\n",
    "# Perform linear regression for each player and each metric\n",
    "positive_trend_batsman = []\n",
    "for player_name, player_data in batsman_data_dict.items():\n",
    "    X = np.array(player_data['Year'])\n",
    "    metrics = ['Batting Avg', 'Strike Rate', 'Batting Avg Score']\n",
    "    \n",
    "    for metric in metrics:\n",
    "        Y = np.array(player_data[metric])\n",
    "\n",
    "        # Calculate the mean of X and Y\n",
    "        mean_x = np.mean(X)\n",
    "        mean_y = np.mean(Y)\n",
    "\n",
    "        # Calculate the slope (coefficient)\n",
    "        num = np.sum((X - mean_x) * (Y - mean_y))\n",
    "        den = np.sum((X - mean_x) ** 2)\n",
    "        slope = num / den\n",
    "\n",
    "        # Check if the slope is positive\n",
    "        if slope > -1:\n",
    "            positive_trend_batsman.append(player_name)\n",
    "\n",
    "        # Calculate the intercept\n",
    "        intercept = mean_y - slope * mean_x\n",
    "\n",
    "        # Print the slope and intercept for each player and metric\n",
    "        print(f\"Player: {player_name}, Metric: {metric}, Slope (Coefficient): {slope}, Intercept: {intercept}\")\n",
    "\n",
    "        # Create the linear regression line\n",
    "        regression_line = slope * X + intercept\n",
    "\n",
    "        # Plot the actual data points and the linear regression line for each player and metric\n",
    "        plt.figure(figsize=(12, 8))\n",
    "        plt.scatter(X, Y, label=metric)\n",
    "        plt.plot(X, regression_line, color='red', label='Linear Regression Line')\n",
    "        plt.xlabel('Year')\n",
    "        plt.ylabel(metric)\n",
    "        plt.title(f'{metric} Trend for {player_name}')\n",
    "        plt.legend()\n",
    "        plt.grid(True)\n",
    "        plt.show()"
   ]
  },
  {
   "cell_type": "code",
   "execution_count": null,
   "metadata": {},
   "outputs": [],
   "source": [
    "# Find unique Batsman players with a positive trend in at least two metrics\n",
    "batsman_with_positive_trend = set([player for player in positive_trend_batsman if positive_trend_batsman.count(player) >= 2])\n",
    "print(\"Batsman with a Positive Trend in at least Two Metrics:\")\n",
    "print(\"\\n\" , len(batsman_with_positive_trend) , \"\\n\")\n",
    "for i in batsman_with_positive_trend:\n",
    "    print(i)"
   ]
  },
  {
   "cell_type": "code",
   "execution_count": null,
   "metadata": {},
   "outputs": [],
   "source": [
    "# Create a dictionary to store player-wise data\n",
    "bowler_data_dict = {}\n",
    "\n",
    "# Extract the data for the selected metric and year\n",
    "for player_name in bowler_names_list:\n",
    "    years = [entry['Year'] for entry in all_bowling_data if entry['Player'] == player_name]\n",
    "    bowling_avg_values = [entry['Avg'] for entry in all_bowling_data if entry['Player'] == player_name]\n",
    "    econ_rates = [entry['Econ'] for entry in all_bowling_data if entry['Player'] == player_name]\n",
    "    \n",
    "    bowler_data_dict[player_name] = {'Year': years, 'Bowling Avg': bowling_avg_values, 'Economy Rate': econ_rates}\n",
    "\n",
    "# Perform linear regression for each player and each metric\n",
    "positive_trend_bowler = []\n",
    "for player_name, player_data in bowler_data_dict.items():\n",
    "    X = np.array(player_data['Year'])\n",
    "    metrics = ['Bowling Avg', 'Economy Rate']\n",
    "    \n",
    "    for metric in metrics:\n",
    "        Y = np.array(player_data[metric])\n",
    "\n",
    "        # Calculate the mean of X and Y\n",
    "        mean_x = np.mean(X)\n",
    "        mean_y = np.mean(Y)\n",
    "\n",
    "        # Calculate the slope (coefficient)\n",
    "        num = np.sum((X - mean_x) * (Y - mean_y))\n",
    "        den = np.sum((X - mean_x) ** 2)\n",
    "        slope = num / den\n",
    "\n",
    "        # Check if the slope is positive\n",
    "        if slope > -1:\n",
    "            positive_trend_bowler.append(player_name)\n",
    "\n",
    "        # Calculate the intercept\n",
    "        intercept = mean_y - slope * mean_x\n",
    "\n",
    "        # Print the slope and intercept for each player and metric\n",
    "        print(f\"Player: {player_name}, Metric: {metric}, Slope (Coefficient): {slope}, Intercept: {intercept}\")\n",
    "\n",
    "        # Create the linear regression line\n",
    "        regression_line = slope * X + intercept\n",
    "\n",
    "        # Plot the actual data points and the linear regression line for each player and metric\n",
    "        plt.figure(figsize=(12, 8))\n",
    "        plt.scatter(X, Y, label=metric)\n",
    "        plt.plot(X, regression_line, color='red', label='Linear Regression Line')\n",
    "        plt.xlabel('Year')\n",
    "        plt.ylabel(metric)\n",
    "        plt.title(f'{metric} Trend for {player_name}')\n",
    "        plt.legend()\n",
    "        plt.grid(True)\n",
    "        plt.show()"
   ]
  },
  {
   "cell_type": "code",
   "execution_count": null,
   "metadata": {},
   "outputs": [],
   "source": [
    "# Find unique Batsman players with a positive trend in at least two metrics\n",
    "bowler_with_positive_trend = set([player for player in positive_trend_bowler if positive_trend_bowler.count(player) >= 2])\n",
    "print(\"Bowler with a Positive Trend in both the Two Metrics:\")\n",
    "print(\"\\n\" , len(bowler_with_positive_trend))\n",
    "for i in bowler_with_positive_trend:\n",
    "    print(i)"
   ]
  },
  {
   "cell_type": "code",
   "execution_count": null,
   "metadata": {},
   "outputs": [],
   "source": [
    "bowler_with_positive_trend.intersection(overall_top_allrounder)"
   ]
  },
  {
   "cell_type": "code",
   "execution_count": null,
   "metadata": {},
   "outputs": [],
   "source": [
    "# Function to calculate overall score for a batsman based on selected metrics\n",
    "def calculate_batsman_score(player_data):\n",
    "    batting_avg_score = np.mean(player_data['Batting Avg Score'])\n",
    "    strike_rate = np.mean(player_data['Strike Rate'])\n",
    "    batting_avg = np.mean(player_data['Batting Avg'])\n",
    "    \n",
    "    # You can adjust weights based on priority or importance of metrics\n",
    "    score = (batting_avg_score + strike_rate + batting_avg)/3\n",
    "    return score\n",
    "\n",
    "# Calculate overall score for each batsman and create a list of tuples (player_name, overall_score)\n",
    "batsman_scores = [(player_name, calculate_batsman_score(player_data)) for player_name, player_data in batsman_data_dict.items() if player_name in batsman_with_positive_trend]\n",
    "\n",
    "# Sort the batsmen based on their overall scores in descending order\n",
    "sorted_batsmen = sorted(batsman_scores, key=lambda x: x[1], reverse=True)\n",
    "\n",
    "# Display the combined batsman sorted list\n",
    "print(\"Combined Overall Score of 7 Years Batsman Sorted List:\")\n",
    "for player_name, score in sorted_batsmen:\n",
    "    print(f\"Player: {player_name}, Overall Score: {score:.2f}\")"
   ]
  },
  {
   "cell_type": "code",
   "execution_count": null,
   "metadata": {},
   "outputs": [],
   "source": [
    "print(sorted_batsmen)"
   ]
  },
  {
   "cell_type": "code",
   "execution_count": null,
   "metadata": {},
   "outputs": [],
   "source": [
    "# Create a dictionary to store player-wise data\n",
    "batsman_data_dict = {}\n",
    "\n",
    "# Extract the data for the selected metric and year\n",
    "for player_name , player_score in sorted_batsmen:\n",
    "    years = [entry['Year'] for entry in all_batting_data if entry['Player'] == player_name]\n",
    "    overall_score = [entry['Overall_score'] for entry in all_batting_data if entry['Player'] == player_name]\n",
    "    \n",
    "    batsman_data_dict[player_name] = {'Year': years, 'Overall_score': overall_score}\n",
    "\n",
    "# Perform linear regression for each player and each metric\n",
    "positive_trend_batsman = []\n",
    "for player_name, player_data in batsman_data_dict.items():\n",
    "        X = np.array(player_data['Year'])\n",
    "        metric = 'Overall_score'\n",
    "    \n",
    "        Y = np.array(player_data[metric])\n",
    "\n",
    "        # Calculate the mean of X and Y\n",
    "        mean_x = np.mean(X)\n",
    "        mean_y = np.mean(Y)\n",
    "\n",
    "        # Calculate the slope (coefficient)\n",
    "        num = np.sum((X - mean_x) * (Y - mean_y))\n",
    "        den = np.sum((X - mean_x) ** 2)\n",
    "        slope = num / den\n",
    "\n",
    "        # Check if the slope is positive\n",
    "        if slope > -1:\n",
    "            positive_trend_batsman.append(player_name)\n",
    "\n",
    "        # Calculate the intercept\n",
    "        intercept = mean_y - slope * mean_x\n",
    "\n",
    "        # Print the slope and intercept for each player and metric\n",
    "        print(f\"Player: {player_name}, Metric: {metric}, Slope (Coefficient): {slope}, Intercept: {intercept}\")\n",
    "\n",
    "        # Create the linear regression line\n",
    "        regression_line = slope * X + intercept\n",
    "\n",
    "        # Plot the actual data points and the linear regression line for each player and metric\n",
    "        plt.figure(figsize=(12, 8))\n",
    "        plt.scatter(X, Y, label=metric)\n",
    "        plt.plot(X, regression_line, color='red', label='Linear Regression Line')\n",
    "        plt.xlabel('Year')\n",
    "        plt.ylabel(metric)\n",
    "        plt.title(f'{metric} Batting Trend for {player_name}')\n",
    "        plt.legend()\n",
    "        plt.grid(True)\n",
    "        plt.show()"
   ]
  },
  {
   "cell_type": "code",
   "execution_count": null,
   "metadata": {},
   "outputs": [],
   "source": [
    "# Function to calculate overall score for a bowler based on selected metrics\n",
    "def calculate_bowler_score(player_data):\n",
    "    econ_rate = np.mean(player_data['Economy Rate'])\n",
    "    bowling_avg = np.mean(player_data['Bowling Avg'])\n",
    "    \n",
    "    score = (econ_rate + bowling_avg)/2\n",
    "    return score\n",
    "\n",
    "# Calculate overall score for each bowler and create a list of tuples (player_name, overall_score)\n",
    "bowler_scores = [(player_name, calculate_bowler_score(player_data)) for player_name, player_data in bowler_data_dict.items() if player_name in bowler_with_positive_trend]\n",
    "\n",
    "# Sort the bowlers based on their overall scores in descending order\n",
    "sorted_bowlers = sorted(bowler_scores, key=lambda x: x[1], reverse=False)\n",
    "\n",
    "# Display the combined batsman sorted list\n",
    "print(\"Combined Bowler Sorted List:\")\n",
    "for player_name, score in sorted_bowlers:\n",
    "    print(f\"Player: {player_name}, Overall Score: {score:.2f}\")"
   ]
  },
  {
   "cell_type": "code",
   "execution_count": null,
   "metadata": {},
   "outputs": [],
   "source": [
    "# Create a dictionary to store player-wise data\n",
    "bowler_data_dict = {}\n",
    "\n",
    "# Extract the data for the selected metric and year\n",
    "for player_name , player_score in sorted_bowlers:\n",
    "    years = [entry['Year'] for entry in all_bowling_data if entry['Player'] == player_name]\n",
    "    overall_score = [entry['Overall_score'] for entry in all_bowling_data if entry['Player'] == player_name]\n",
    "    \n",
    "    bowler_data_dict[player_name] = {'Year': years, 'Overall_score': overall_score}\n",
    "\n",
    "# Perform linear regression for each player and each metric\n",
    "positive_trend_bowler = []\n",
    "for player_name, player_data in bowler_data_dict.items():\n",
    "        X = np.array(player_data['Year'])\n",
    "        metric = 'Overall_score'\n",
    "    \n",
    "        Y = np.array(player_data[metric])\n",
    "\n",
    "        # Calculate the mean of X and Y\n",
    "        mean_x = np.mean(X)\n",
    "        mean_y = np.mean(Y)\n",
    "\n",
    "        # Calculate the slope (coefficient)\n",
    "        num = np.sum((X - mean_x) * (Y - mean_y))\n",
    "        den = np.sum((X - mean_x) ** 2)\n",
    "        slope = num / den\n",
    "\n",
    "        # Check if the slope is negative\n",
    "        if slope < 1:\n",
    "            positive_trend_bowler.append(player_name)\n",
    "\n",
    "        # Calculate the intercept\n",
    "        intercept = mean_y - slope * mean_x\n",
    "\n",
    "        # Print the slope and intercept for each player and metric\n",
    "        print(f\"Player: {player_name}, Metric: {metric}, Slope (Coefficient): {slope}, Intercept: {intercept}\")\n",
    "\n",
    "        # Create the linear regression line\n",
    "        regression_line = slope * X + intercept\n",
    "\n",
    "        # Plot the actual data points and the linear regression line for each player and metric\n",
    "        plt.figure(figsize=(12, 8))\n",
    "        plt.scatter(X, Y, label=metric)\n",
    "        plt.plot(X, regression_line, color='red', label='Linear Regression Line')\n",
    "        plt.xlabel('Year')\n",
    "        plt.ylabel(metric)\n",
    "        plt.title(f'{metric} Bowling Trend for {player_name}')\n",
    "        plt.legend()\n",
    "        plt.grid(True)\n",
    "        plt.show()"
   ]
  },
  {
   "cell_type": "code",
   "execution_count": null,
   "metadata": {},
   "outputs": [],
   "source": [
    "# Extract only the batsman names from the combined batsman sorted list\n",
    "batsman_names_sorted = [player_name for player_name, _ in sorted_batsmen]\n",
    "\n",
    "# Extract only the batsman names from the combined bowler sorted list\n",
    "bowler_names_sorted = [player_name for player_name, _ in sorted_bowlers]\n",
    "\n",
    "# Combine both lists to get the final team\n",
    "team = batsman_names_sorted[:6] + bowler_names_sorted[:5]\n",
    "substitute = batsman_names_sorted[6:10] + bowler_names_sorted[5:8] + ['MS Dhoni']\n",
    "# Display the names of the players in the team\n",
    "print(\"Team Selection:\")\n",
    "for i, player_name in enumerate(team, 1):\n",
    "    print(f\"{i}. {player_name}\")\n",
    "\n",
    "# Display the names of the players in the substitute\n",
    "print(\"\\nSbstitute Selection:\")\n",
    "for i, player_name in enumerate(substitute, 1):\n",
    "    print(f\"{i}. {player_name}\")"
   ]
  },
  {
   "cell_type": "code",
   "execution_count": null,
   "metadata": {},
   "outputs": [],
   "source": [
    "y = set(name for name , _ in top_batting_avg).intersection(set(name for name , _ in top_batting_avg_score))"
   ]
  },
  {
   "cell_type": "code",
   "execution_count": null,
   "metadata": {},
   "outputs": [],
   "source": [
    "print(y)"
   ]
  },
  {
   "cell_type": "code",
   "execution_count": null,
   "metadata": {},
   "outputs": [],
   "source": [
    "for row in aggregated_allrounder_player_stats.keys():\n",
    "    for name in team:\n",
    "        if row == name:\n",
    "            print(name)"
   ]
  },
  {
   "cell_type": "code",
   "execution_count": null,
   "metadata": {},
   "outputs": [],
   "source": [
    "set(team).intersection(overall_top_allrounder)"
   ]
  },
  {
   "cell_type": "code",
   "execution_count": null,
   "metadata": {},
   "outputs": [],
   "source": [
    "set(substitute).intersection(overall_top_allrounder)"
   ]
  },
  {
   "cell_type": "code",
   "execution_count": null,
   "metadata": {},
   "outputs": [],
   "source": [
    "set(bowler_names_sorted).intersection(overall_top_allrounder)"
   ]
  },
  {
   "cell_type": "code",
   "execution_count": null,
   "metadata": {},
   "outputs": [],
   "source": [
    "set(batsman_names_sorted).intersection(overall_top_allrounder)"
   ]
  },
  {
   "cell_type": "code",
   "execution_count": null,
   "metadata": {},
   "outputs": [],
   "source": [
    "print(overall_top_allrounder)"
   ]
  },
  {
   "cell_type": "code",
   "execution_count": null,
   "metadata": {},
   "outputs": [],
   "source": [
    "print(aggregated_allrounder_player_stats)"
   ]
  },
  {
   "cell_type": "code",
   "execution_count": null,
   "metadata": {},
   "outputs": [],
   "source": [
    "print(top_batting_sr[:5])"
   ]
  },
  {
   "cell_type": "code",
   "execution_count": null,
   "metadata": {},
   "outputs": [],
   "source": []
  }
 ],
 "metadata": {
  "kernelspec": {
   "display_name": "Python 3",
   "language": "python",
   "name": "python3"
  },
  "language_info": {
   "codemirror_mode": {
    "name": "ipython",
    "version": 3
   },
   "file_extension": ".py",
   "mimetype": "text/x-python",
   "name": "python",
   "nbconvert_exporter": "python",
   "pygments_lexer": "ipython3",
   "version": "3.9.12"
  },
  "orig_nbformat": 4
 },
 "nbformat": 4,
 "nbformat_minor": 2
}
